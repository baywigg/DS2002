{
 "cells": [
  {
   "cell_type": "markdown",
   "metadata": {},
   "source": [
    "1. Create a connection to an SQLite database file named student_grades.db. If the\n",
    "database file does not exist, SQLite will automatically create it.\n",
    "2. Create a cursor object to interact with the database."
   ]
  },
  {
   "cell_type": "code",
   "execution_count": 53,
   "metadata": {},
   "outputs": [],
   "source": [
    "import sqlite3\n",
    "\n",
    "connection = sqlite3.connect('dbs/student_grades.db')\n",
    "cursor = connection.cursor()"
   ]
  },
  {
   "cell_type": "markdown",
   "metadata": {},
   "source": [
    "2. Create the Necessary Tables\n",
    "You will need two tables for this assignment:\n",
    "\n",
    "**students**: A table to store student information.\n",
    "\n",
    "**grades**: A table to store student grades for different subjects.\n",
    "\n",
    "The structure of the tables should be as follows:\n",
    "\n",
    "\n",
    "students table:\n",
    "- student_id (INTEGER, Primary Key, Auto-increment)\n",
    "- first_name (TEXT)\n",
    "- last_name (TEXT)\n",
    "  \n",
    "grades table:\n",
    "- grade_id (INTEGER, Primary Key, Auto-increment)\n",
    "- student_id (INTEGER, Foreign Key linked to students table)\n",
    "- subject (TEXT)\n",
    "- grade (INTEGER)"
   ]
  },
  {
   "cell_type": "code",
   "execution_count": 55,
   "metadata": {},
   "outputs": [
    {
     "data": {
      "text/plain": [
       "<sqlite3.Cursor at 0x121928b40>"
      ]
     },
     "execution_count": 55,
     "metadata": {},
     "output_type": "execute_result"
    }
   ],
   "source": [
    "cursor.execute('''\n",
    "CREATE TABLE IF NOT EXISTS students (\n",
    "    student_id INTEGER PRIMARY KEY AUTOINCREMENT,\n",
    "    first_name TEXT,\n",
    "    last_name TEXT\n",
    ")\n",
    "''')\n",
    "\n",
    "cursor.execute('''\n",
    "CREATE TABLE IF NOT EXISTS grades (\n",
    "    grade_id INTEGER PRIMARY KEY AUTOINCREMENT,\n",
    "    student_id INTEGER,\n",
    "    subject TEXT,\n",
    "    grade INTEGER,\n",
    "    FOREIGN KEY (student_id) REFERENCES students(student_id)\n",
    ")\n",
    "''')"
   ]
  },
  {
   "cell_type": "markdown",
   "metadata": {},
   "source": [
    "3. Insert Data into the Tables\n",
    "Insert at least 5 students into the students table and at least 3 grades for each student into the grades table.\n"
   ]
  },
  {
   "cell_type": "code",
   "execution_count": 57,
   "metadata": {},
   "outputs": [],
   "source": [
    "student_data = [\n",
    "    ('Shevya', 'Panda'),\n",
    "    ('Jordan', 'Roberts'),\n",
    "    ('Jason', 'Williamson'),\n",
    "    ('LeBron', 'James'),\n",
    "    ('Bob', 'Smith')\n",
    "]\n",
    "cursor.executemany('''\n",
    "INSERT INTO students (first_name, last_name) VALUES (?,?)\n",
    "''', student_data)\n",
    "\n",
    "connection.commit()"
   ]
  },
  {
   "cell_type": "code",
   "execution_count": 75,
   "metadata": {},
   "outputs": [],
   "source": [
    "grade_data = [\n",
    "    (1, 'Math', 85),\n",
    "    (1, 'Science', 90),\n",
    "    (1, 'History', 88),\n",
    "    \n",
    "    (2, 'Math', 78),\n",
    "    (2, 'Science', 82),\n",
    "    (2, 'History', 75),\n",
    "    \n",
    "    (3, 'Math', 92),\n",
    "    (3, 'Science', 88),\n",
    "    (3, 'History', 90),\n",
    "    \n",
    "    (4, 'Math', 81),\n",
    "    (4, 'Science', 79),\n",
    "    (4, 'History', 85),\n",
    "    \n",
    "    (5, 'Math', 87),\n",
    "    (5, 'Science', 91),\n",
    "    (5, 'History', 89)\n",
    "]\n",
    "\n",
    "cursor.executemany('''\n",
    "INSERT INTO grades (student_id, subject, grade) VALUES (?,?,?)\n",
    "''', grade_data)\n",
    "\n",
    "connection.commit()"
   ]
  },
  {
   "cell_type": "markdown",
   "metadata": {},
   "source": [
    "4. Perform SQL Queries\n",
    "\n",
    "\n",
    "Write SQL queries to answer the following questions:\n",
    "1. Retrieve all students' names and their grades."
   ]
  },
  {
   "cell_type": "code",
   "execution_count": 86,
   "metadata": {},
   "outputs": [
    {
     "name": "stdout",
     "output_type": "stream",
     "text": [
      "('Shevya', 'Panda', 85)\n",
      "('Shevya', 'Panda', 90)\n",
      "('Shevya', 'Panda', 88)\n",
      "('Jordan', 'Roberts', 78)\n",
      "('Jordan', 'Roberts', 82)\n",
      "('Jordan', 'Roberts', 75)\n",
      "('Jason', 'Williamson', 92)\n",
      "('Jason', 'Williamson', 88)\n",
      "('Jason', 'Williamson', 90)\n",
      "('LeBron', 'James', 81)\n",
      "('LeBron', 'James', 79)\n",
      "('LeBron', 'James', 85)\n",
      "('Bob', 'Smith', 87)\n",
      "('Bob', 'Smith', 91)\n",
      "('Bob', 'Smith', 89)\n"
     ]
    }
   ],
   "source": [
    "cursor.execute('''\n",
    "SELECT s.first_name, s.last_name, g.grade FROM students s\n",
    "JOIN grades g ON g.student_id = s.student_id\n",
    "''')\n",
    "rows = cursor.fetchall()\n",
    "for row in rows:\n",
    "    print(row)"
   ]
  },
  {
   "cell_type": "markdown",
   "metadata": {},
   "source": [
    "2. Find the average grade for each student."
   ]
  },
  {
   "cell_type": "code",
   "execution_count": 98,
   "metadata": {},
   "outputs": [
    {
     "name": "stdout",
     "output_type": "stream",
     "text": [
      "('Bob', 'Smith', 89.0)\n",
      "('Jason', 'Williamson', 90.0)\n",
      "('Jordan', 'Roberts', 78.33333333333333)\n",
      "('LeBron', 'James', 81.66666666666667)\n",
      "('Shevya', 'Panda', 87.66666666666667)\n"
     ]
    }
   ],
   "source": [
    "cursor.execute('''\n",
    "SELECT s.first_name, s.last_name, AVG(g.grade) FROM students s\n",
    "JOIN grades g ON g.student_id = s.student_id\n",
    "GROUP BY s.first_name\n",
    "''')\n",
    "rows = cursor.fetchall()\n",
    "for row in rows:\n",
    "    print(row)"
   ]
  },
  {
   "cell_type": "markdown",
   "metadata": {},
   "source": [
    "3. Find the student with the highest average grade."
   ]
  },
  {
   "cell_type": "code",
   "execution_count": 106,
   "metadata": {},
   "outputs": [
    {
     "name": "stdout",
     "output_type": "stream",
     "text": [
      "('Jason', 'Williamson', 90.0)\n"
     ]
    }
   ],
   "source": [
    "cursor.execute('''\n",
    "SELECT s.first_name, s.last_name, AVG(g.grade) FROM students s\n",
    "JOIN grades g ON g.student_id = s.student_id\n",
    "GROUP BY s.first_name\n",
    "ORDER BY g.grade DESC LIMIT 1\n",
    "''')\n",
    "rows = cursor.fetchall()\n",
    "for row in rows:\n",
    "    print(row)"
   ]
  },
  {
   "cell_type": "markdown",
   "metadata": {},
   "source": [
    "4. Find the average grade for the Math subject."
   ]
  },
  {
   "cell_type": "code",
   "execution_count": 108,
   "metadata": {},
   "outputs": [
    {
     "name": "stdout",
     "output_type": "stream",
     "text": [
      "('Math', 84.6)\n"
     ]
    }
   ],
   "source": [
    "cursor.execute('''\n",
    "SELECT subject, AVG(grade) FROM grades\n",
    "WHERE subject = \"Math\"\n",
    "''')\n",
    "rows = cursor.fetchall()\n",
    "for row in rows:\n",
    "    print(row)"
   ]
  },
  {
   "cell_type": "markdown",
   "metadata": {},
   "source": [
    "5. List all students who scored above 90 in any subject."
   ]
  },
  {
   "cell_type": "code",
   "execution_count": 114,
   "metadata": {},
   "outputs": [
    {
     "name": "stdout",
     "output_type": "stream",
     "text": [
      "('Bob', 'Smith')\n",
      "('Jason', 'Williamson')\n"
     ]
    }
   ],
   "source": [
    "cursor.execute('''\n",
    "SELECT s.first_name, s.last_name FROM students s\n",
    "JOIN grades g ON g.student_id = s.student_id\n",
    "WHERE grade > 90\n",
    "GROUP BY s.first_name\n",
    "''')\n",
    "rows = cursor.fetchall()\n",
    "for row in rows:\n",
    "    print(row)"
   ]
  },
  {
   "cell_type": "markdown",
   "metadata": {},
   "source": [
    "Load Data into Pandas\n",
    "1. Use Pandas to load the data from the students and grades tables into DataFrames."
   ]
  },
  {
   "cell_type": "code",
   "execution_count": 125,
   "metadata": {},
   "outputs": [
    {
     "data": {
      "text/html": [
       "<div>\n",
       "<style scoped>\n",
       "    .dataframe tbody tr th:only-of-type {\n",
       "        vertical-align: middle;\n",
       "    }\n",
       "\n",
       "    .dataframe tbody tr th {\n",
       "        vertical-align: top;\n",
       "    }\n",
       "\n",
       "    .dataframe thead th {\n",
       "        text-align: right;\n",
       "    }\n",
       "</style>\n",
       "<table border=\"1\" class=\"dataframe\">\n",
       "  <thead>\n",
       "    <tr style=\"text-align: right;\">\n",
       "      <th></th>\n",
       "      <th>student_id</th>\n",
       "      <th>first_name</th>\n",
       "      <th>last_name</th>\n",
       "    </tr>\n",
       "  </thead>\n",
       "  <tbody>\n",
       "    <tr>\n",
       "      <th>0</th>\n",
       "      <td>1</td>\n",
       "      <td>Shevya</td>\n",
       "      <td>Panda</td>\n",
       "    </tr>\n",
       "    <tr>\n",
       "      <th>1</th>\n",
       "      <td>2</td>\n",
       "      <td>Jordan</td>\n",
       "      <td>Roberts</td>\n",
       "    </tr>\n",
       "    <tr>\n",
       "      <th>2</th>\n",
       "      <td>3</td>\n",
       "      <td>Jason</td>\n",
       "      <td>Williamson</td>\n",
       "    </tr>\n",
       "    <tr>\n",
       "      <th>3</th>\n",
       "      <td>4</td>\n",
       "      <td>LeBron</td>\n",
       "      <td>James</td>\n",
       "    </tr>\n",
       "    <tr>\n",
       "      <th>4</th>\n",
       "      <td>5</td>\n",
       "      <td>Bob</td>\n",
       "      <td>Smith</td>\n",
       "    </tr>\n",
       "  </tbody>\n",
       "</table>\n",
       "</div>"
      ],
      "text/plain": [
       "   student_id first_name   last_name\n",
       "0           1     Shevya       Panda\n",
       "1           2     Jordan     Roberts\n",
       "2           3      Jason  Williamson\n",
       "3           4     LeBron       James\n",
       "4           5        Bob       Smith"
      ]
     },
     "execution_count": 125,
     "metadata": {},
     "output_type": "execute_result"
    }
   ],
   "source": [
    "import pandas as pd\n",
    "\n",
    "students_df = pd.read_sql_query('''\n",
    "SELECT * FROM students\n",
    "''', connection)\n",
    "\n",
    "grades_df = pd.read_sql_query('''\n",
    "SELECT * FROM grades\n",
    "''', connection)\n",
    "\n",
    "students_df.head()"
   ]
  },
  {
   "cell_type": "code",
   "execution_count": 225,
   "metadata": {},
   "outputs": [
    {
     "data": {
      "text/html": [
       "<div>\n",
       "<style scoped>\n",
       "    .dataframe tbody tr th:only-of-type {\n",
       "        vertical-align: middle;\n",
       "    }\n",
       "\n",
       "    .dataframe tbody tr th {\n",
       "        vertical-align: top;\n",
       "    }\n",
       "\n",
       "    .dataframe thead th {\n",
       "        text-align: right;\n",
       "    }\n",
       "</style>\n",
       "<table border=\"1\" class=\"dataframe\">\n",
       "  <thead>\n",
       "    <tr style=\"text-align: right;\">\n",
       "      <th></th>\n",
       "      <th>grade_id</th>\n",
       "      <th>student_id</th>\n",
       "      <th>subject</th>\n",
       "      <th>grade</th>\n",
       "    </tr>\n",
       "  </thead>\n",
       "  <tbody>\n",
       "    <tr>\n",
       "      <th>0</th>\n",
       "      <td>1</td>\n",
       "      <td>1</td>\n",
       "      <td>Math</td>\n",
       "      <td>85</td>\n",
       "    </tr>\n",
       "    <tr>\n",
       "      <th>1</th>\n",
       "      <td>2</td>\n",
       "      <td>1</td>\n",
       "      <td>Science</td>\n",
       "      <td>90</td>\n",
       "    </tr>\n",
       "    <tr>\n",
       "      <th>2</th>\n",
       "      <td>3</td>\n",
       "      <td>1</td>\n",
       "      <td>History</td>\n",
       "      <td>88</td>\n",
       "    </tr>\n",
       "    <tr>\n",
       "      <th>3</th>\n",
       "      <td>4</td>\n",
       "      <td>2</td>\n",
       "      <td>Math</td>\n",
       "      <td>78</td>\n",
       "    </tr>\n",
       "    <tr>\n",
       "      <th>4</th>\n",
       "      <td>5</td>\n",
       "      <td>2</td>\n",
       "      <td>Science</td>\n",
       "      <td>82</td>\n",
       "    </tr>\n",
       "  </tbody>\n",
       "</table>\n",
       "</div>"
      ],
      "text/plain": [
       "   grade_id  student_id  subject  grade\n",
       "0         1           1     Math     85\n",
       "1         2           1  Science     90\n",
       "2         3           1  History     88\n",
       "3         4           2     Math     78\n",
       "4         5           2  Science     82"
      ]
     },
     "execution_count": 225,
     "metadata": {},
     "output_type": "execute_result"
    }
   ],
   "source": [
    "grades_df.head()"
   ]
  },
  {
   "cell_type": "markdown",
   "metadata": {},
   "source": [
    "2. Use JOIN queries to combine the data from both tables into a single DataFrame that\n",
    "includes each student's name, subject, and grade."
   ]
  },
  {
   "cell_type": "code",
   "execution_count": 142,
   "metadata": {},
   "outputs": [
    {
     "data": {
      "text/html": [
       "<div>\n",
       "<style scoped>\n",
       "    .dataframe tbody tr th:only-of-type {\n",
       "        vertical-align: middle;\n",
       "    }\n",
       "\n",
       "    .dataframe tbody tr th {\n",
       "        vertical-align: top;\n",
       "    }\n",
       "\n",
       "    .dataframe thead th {\n",
       "        text-align: right;\n",
       "    }\n",
       "</style>\n",
       "<table border=\"1\" class=\"dataframe\">\n",
       "  <thead>\n",
       "    <tr style=\"text-align: right;\">\n",
       "      <th></th>\n",
       "      <th>first_name</th>\n",
       "      <th>last_name</th>\n",
       "      <th>subject</th>\n",
       "      <th>grade</th>\n",
       "    </tr>\n",
       "  </thead>\n",
       "  <tbody>\n",
       "    <tr>\n",
       "      <th>0</th>\n",
       "      <td>Shevya</td>\n",
       "      <td>Panda</td>\n",
       "      <td>Math</td>\n",
       "      <td>85</td>\n",
       "    </tr>\n",
       "    <tr>\n",
       "      <th>1</th>\n",
       "      <td>Shevya</td>\n",
       "      <td>Panda</td>\n",
       "      <td>Science</td>\n",
       "      <td>90</td>\n",
       "    </tr>\n",
       "    <tr>\n",
       "      <th>2</th>\n",
       "      <td>Shevya</td>\n",
       "      <td>Panda</td>\n",
       "      <td>History</td>\n",
       "      <td>88</td>\n",
       "    </tr>\n",
       "    <tr>\n",
       "      <th>3</th>\n",
       "      <td>Jordan</td>\n",
       "      <td>Roberts</td>\n",
       "      <td>Math</td>\n",
       "      <td>78</td>\n",
       "    </tr>\n",
       "    <tr>\n",
       "      <th>4</th>\n",
       "      <td>Jordan</td>\n",
       "      <td>Roberts</td>\n",
       "      <td>Science</td>\n",
       "      <td>82</td>\n",
       "    </tr>\n",
       "  </tbody>\n",
       "</table>\n",
       "</div>"
      ],
      "text/plain": [
       "  first_name last_name  subject  grade\n",
       "0     Shevya     Panda     Math     85\n",
       "1     Shevya     Panda  Science     90\n",
       "2     Shevya     Panda  History     88\n",
       "3     Jordan   Roberts     Math     78\n",
       "4     Jordan   Roberts  Science     82"
      ]
     },
     "execution_count": 142,
     "metadata": {},
     "output_type": "execute_result"
    }
   ],
   "source": [
    "df = pd.read_sql_query('''\n",
    "SELECT s.first_name, s.last_name, g.subject, g.grade FROM students s\n",
    "JOIN grades g ON g.student_id = s.student_id\n",
    "''', connection)\n",
    "\n",
    "df.head()"
   ]
  },
  {
   "cell_type": "markdown",
   "metadata": {},
   "source": [
    "3. Visualize the data with Matplotlib:\n",
    "- Plot the average grades for each student.\n",
    "- Create a bar chart showing the average grade for each subject."
   ]
  },
  {
   "cell_type": "code",
   "execution_count": 204,
   "metadata": {},
   "outputs": [
    {
     "data": {
      "image/png": "[encoded data removed]",
      "text/plain": [
       "<Figure size 1000x600 with 1 Axes>"
      ]
     },
     "metadata": {},
     "output_type": "display_data"
    },
    {
     "data": {
      "image/png": "[encoded data removed]",
      "text/plain": [
       "<Figure size 1000x600 with 1 Axes>"
      ]
     },
     "metadata": {},
     "output_type": "display_data"
    }
   ],
   "source": [
    "import matplotlib.pyplot as plt\n",
    "\n",
    "avg_subject_grade = df.groupby('subject')['grade'].mean().reset_index()\n",
    "\n",
    "plt.figure(figsize=(10, 6))\n",
    "plt.bar(avg_subject_grade['subject'], avg_subject_grade['grade'], color='purple')\n",
    "plt.title('Average Grade for Each Subject')\n",
    "plt.xlabel('Subject')\n",
    "plt.ylabel('Average Grade')\n",
    "plt.show()\n",
    "\n",
    "avg_student_grade = df.groupby(['first_name', 'last_name'])['grade'].mean().reset_index()\n",
    "avg_student_grade['full_name'] = avg_student_grade['first_name'] + ' ' + avg_student_grade['last_name']\n",
    "plt.figure(figsize=(10, 6))\n",
    "plt.bar(avg_student_grade['full_name'], avg_student_grade['grade'], color='green')\n",
    "plt.title('Average Grade for Each Student')\n",
    "plt.xlabel('Student')\n",
    "plt.ylabel('Average Grade')\n",
    "plt.show()"
   ]
  },
  {
   "cell_type": "markdown",
   "metadata": {},
   "source": [
    "Bonus Task:\n",
    "- Implement a query that finds the student with the highest grade in each subject.\n",
    "- Visualize the results using a grouped bar chart."
   ]
  },
  {
   "cell_type": "code",
   "execution_count": 222,
   "metadata": {},
   "outputs": [
    {
     "name": "stdout",
     "output_type": "stream",
     "text": [
      "('Math', 'Jason', 'Williamson', 92)\n",
      "('History', 'Jason', 'Williamson', 90)\n",
      "('Science', 'Bob', 'Smith', 91)\n"
     ]
    }
   ],
   "source": [
    "cursor.execute('''\n",
    "SELECT g.subject, s.first_name, s.last_name, g.grade\n",
    "FROM grades g\n",
    "JOIN students s ON g.student_id = s.student_id\n",
    "WHERE g.grade = (\n",
    "    SELECT MAX(g2.grade)\n",
    "    FROM grades g2\n",
    "    WHERE g2.subject = g.subject\n",
    ");\n",
    "''')\n",
    "rows = cursor.fetchall()\n",
    "\n",
    "for row in rows:\n",
    "    print(row)"
   ]
  }
 ],
 "metadata": {
  "kernelspec": {
   "display_name": "Python 3 (ipykernel)",
   "language": "python",
   "name": "python3"
  },
  "language_info": {
   "codemirror_mode": {
    "name": "ipython",
    "version": 3
   },
   "file_extension": ".py",
   "mimetype": "text/x-python",
   "name": "python",
   "nbconvert_exporter": "python",
   "pygments_lexer": "ipython3",
   "version": "3.12.4"
  },
  "vscode": {
   "interpreter": {
    "hash": "1a1af0ee75eeea9e2e1ee996c87e7a2b11a0bebd85af04bb136d915cefc0abce"
   }
  }
 },
 "nbformat": 4,
 "nbformat_minor": 4
}
