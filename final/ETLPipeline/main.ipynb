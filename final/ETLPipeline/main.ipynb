{
 "cells": [
  {
   "cell_type": "code",
   "execution_count": 77,
   "metadata": {},
   "outputs": [],
   "source": [
    "import pandas as pd\n",
    "from extract.get_data_from_kaggle import download_crime_dataset, download_mental_health_dataset\n",
    "from transform.transform_functions import transform_country_names"
   ]
  },
  {
   "cell_type": "markdown",
   "metadata": {},
   "source": [
    "### Extract data from source (Kaggle)"
   ]
  },
  {
   "cell_type": "code",
   "execution_count": 78,
   "metadata": {},
   "outputs": [],
   "source": [
    "crime_dataset_path = download_crime_dataset() + \"/crime-trends-and-operations-of-criminal-justice-systems-un-cts-csv-1.csv\"\n",
    "mental_health_dataset_path = download_mental_health_dataset() + \"/Mental health Depression disorder Data.csv\""
   ]
  },
  {
   "cell_type": "code",
   "execution_count": 79,
   "metadata": {},
   "outputs": [],
   "source": [
    "# Load csv files into pandas dataframes\n",
    "crime_df = pd.read_csv(crime_dataset_path)\n",
    "mental_health_df = pd.read_csv(mental_health_dataset_path, index_col=0, low_memory=False)"
   ]
  },
  {
   "cell_type": "markdown",
   "metadata": {},
   "source": [
    "### Transform"
   ]
  },
  {
   "cell_type": "markdown",
   "metadata": {},
   "source": [
    "Remove second dataset that is a part of the mental health disorders one\n"
   ]
  },
  {
   "cell_type": "code",
   "execution_count": 80,
   "metadata": {},
   "outputs": [],
   "source": [
    "new_dataset_index = mental_health_df[mental_health_df['Entity'] == 'Entity'].index[0]\n",
    "mental_health_df = mental_health_df.loc[:new_dataset_index - 1]"
   ]
  },
  {
   "cell_type": "markdown",
   "metadata": {},
   "source": [
    "Remove unneeded columns, and coerce other columns to ensure numeric"
   ]
  },
  {
   "cell_type": "code",
   "execution_count": 81,
   "metadata": {},
   "outputs": [],
   "source": [
    "mhd_columns_to_remove = [\"Code\", \"Bipolar disorder (%)\", \"Eating disorders (%)\"]\n",
    "mental_health_df = mental_health_df.drop(columns=mhd_columns_to_remove)\n",
    "\n",
    "crime_df = crime_df.drop(columns=[\"sexual violence\"])\n",
    "\n",
    "mhd_numeric_columns = [\"Year\", \"Schizophrenia (%)\", \"Anxiety disorders (%)\", \"Drug use disorders (%)\", \"Depression (%)\", \"Alcohol use disorders (%)\"]\n",
    "crime_numeric_columns = [\"date\", \"rate\"]\n",
    "\n",
    "# Convert mental health columns to numeric\n",
    "for col in mhd_numeric_columns:\n",
    "    mental_health_df[col] = pd.to_numeric(mental_health_df[col], errors=\"coerce\")\n",
    "\n",
    "\n",
    "# Convert crime to numeric\n",
    "for col in crime_numeric_columns:\n",
    "    crime_df[col] = pd.to_numeric(crime_df[col], errors=\"coerce\")"
   ]
  },
  {
   "cell_type": "markdown",
   "metadata": {},
   "source": [
    "Rename crime's columns to ensure they match mental health dataset"
   ]
  },
  {
   "cell_type": "code",
   "execution_count": 82,
   "metadata": {},
   "outputs": [],
   "source": [
    "crime_df.rename(columns={\"country/territory\": \"Entity\", \"date\":\"Year\", \"rate\": \"Sexual Violence Rate\"}, inplace=True)"
   ]
  },
  {
   "cell_type": "markdown",
   "metadata": {},
   "source": [
    "Update the names of the territories to ensure both datasets share the same country names\n"
   ]
  },
  {
   "cell_type": "code",
   "execution_count": 83,
   "metadata": {},
   "outputs": [],
   "source": [
    "crime_df = crime_df.apply(transform_country_names, axis=1)"
   ]
  },
  {
   "cell_type": "markdown",
   "metadata": {},
   "source": [
    "Concatenate the 'England' and 'Wales' rows into a new one"
   ]
  },
  {
   "cell_type": "code",
   "execution_count": 84,
   "metadata": {},
   "outputs": [],
   "source": [
    "# Get averaged values for each year\n",
    "filtered = mental_health_df[mental_health_df['Entity'].isin(['England', 'Wales'])]\n",
    "filtered = filtered.groupby('Year').mean(numeric_only=True).reset_index()\n",
    "# Drop original England and Wales rows\n",
    "mental_health_df = mental_health_df[~mental_health_df['Entity'].isin(['England', 'Wales'])]"
   ]
  },
  {
   "cell_type": "code",
   "execution_count": 85,
   "metadata": {},
   "outputs": [
    {
     "data": {
      "text/html": [
       "<div>\n",
       "<style scoped>\n",
       "    .dataframe tbody tr th:only-of-type {\n",
       "        vertical-align: middle;\n",
       "    }\n",
       "\n",
       "    .dataframe tbody tr th {\n",
       "        vertical-align: top;\n",
       "    }\n",
       "\n",
       "    .dataframe thead th {\n",
       "        text-align: right;\n",
       "    }\n",
       "</style>\n",
       "<table border=\"1\" class=\"dataframe\">\n",
       "  <thead>\n",
       "    <tr style=\"text-align: right;\">\n",
       "      <th></th>\n",
       "      <th>Entity</th>\n",
       "      <th>Year</th>\n",
       "      <th>Schizophrenia (%)</th>\n",
       "      <th>Anxiety disorders (%)</th>\n",
       "      <th>Drug use disorders (%)</th>\n",
       "      <th>Depression (%)</th>\n",
       "      <th>Alcohol use disorders (%)</th>\n",
       "    </tr>\n",
       "  </thead>\n",
       "  <tbody>\n",
       "    <tr>\n",
       "      <th>0</th>\n",
       "      <td>Afghanistan</td>\n",
       "      <td>1990</td>\n",
       "      <td>0.160560</td>\n",
       "      <td>4.828830</td>\n",
       "      <td>1.677082</td>\n",
       "      <td>4.071831</td>\n",
       "      <td>0.672404</td>\n",
       "    </tr>\n",
       "    <tr>\n",
       "      <th>1</th>\n",
       "      <td>Afghanistan</td>\n",
       "      <td>1991</td>\n",
       "      <td>0.160312</td>\n",
       "      <td>4.829740</td>\n",
       "      <td>1.684746</td>\n",
       "      <td>4.079531</td>\n",
       "      <td>0.671768</td>\n",
       "    </tr>\n",
       "    <tr>\n",
       "      <th>2</th>\n",
       "      <td>Afghanistan</td>\n",
       "      <td>1992</td>\n",
       "      <td>0.160135</td>\n",
       "      <td>4.831108</td>\n",
       "      <td>1.694334</td>\n",
       "      <td>4.088358</td>\n",
       "      <td>0.670644</td>\n",
       "    </tr>\n",
       "    <tr>\n",
       "      <th>3</th>\n",
       "      <td>Afghanistan</td>\n",
       "      <td>1993</td>\n",
       "      <td>0.160037</td>\n",
       "      <td>4.830864</td>\n",
       "      <td>1.705320</td>\n",
       "      <td>4.096190</td>\n",
       "      <td>0.669738</td>\n",
       "    </tr>\n",
       "    <tr>\n",
       "      <th>4</th>\n",
       "      <td>Afghanistan</td>\n",
       "      <td>1994</td>\n",
       "      <td>0.160022</td>\n",
       "      <td>4.829423</td>\n",
       "      <td>1.716069</td>\n",
       "      <td>4.099582</td>\n",
       "      <td>0.669260</td>\n",
       "    </tr>\n",
       "    <tr>\n",
       "      <th>...</th>\n",
       "      <td>...</td>\n",
       "      <td>...</td>\n",
       "      <td>...</td>\n",
       "      <td>...</td>\n",
       "      <td>...</td>\n",
       "      <td>...</td>\n",
       "      <td>...</td>\n",
       "    </tr>\n",
       "    <tr>\n",
       "      <th>6435</th>\n",
       "      <td>United Kingdom (England and Wales)</td>\n",
       "      <td>2013</td>\n",
       "      <td>0.254036</td>\n",
       "      <td>4.652097</td>\n",
       "      <td>1.653962</td>\n",
       "      <td>4.081280</td>\n",
       "      <td>1.738443</td>\n",
       "    </tr>\n",
       "    <tr>\n",
       "      <th>6436</th>\n",
       "      <td>United Kingdom (England and Wales)</td>\n",
       "      <td>2014</td>\n",
       "      <td>0.254957</td>\n",
       "      <td>4.652467</td>\n",
       "      <td>1.644664</td>\n",
       "      <td>4.083395</td>\n",
       "      <td>1.740366</td>\n",
       "    </tr>\n",
       "    <tr>\n",
       "      <th>6437</th>\n",
       "      <td>United Kingdom (England and Wales)</td>\n",
       "      <td>2015</td>\n",
       "      <td>0.256066</td>\n",
       "      <td>4.653243</td>\n",
       "      <td>1.634713</td>\n",
       "      <td>4.085584</td>\n",
       "      <td>1.740498</td>\n",
       "    </tr>\n",
       "    <tr>\n",
       "      <th>6438</th>\n",
       "      <td>United Kingdom (England and Wales)</td>\n",
       "      <td>2016</td>\n",
       "      <td>0.257352</td>\n",
       "      <td>4.654402</td>\n",
       "      <td>1.623996</td>\n",
       "      <td>4.089443</td>\n",
       "      <td>1.738599</td>\n",
       "    </tr>\n",
       "    <tr>\n",
       "      <th>6439</th>\n",
       "      <td>United Kingdom (England and Wales)</td>\n",
       "      <td>2017</td>\n",
       "      <td>0.258803</td>\n",
       "      <td>4.655779</td>\n",
       "      <td>1.612164</td>\n",
       "      <td>4.094341</td>\n",
       "      <td>1.734279</td>\n",
       "    </tr>\n",
       "  </tbody>\n",
       "</table>\n",
       "<p>6440 rows × 7 columns</p>\n",
       "</div>"
      ],
      "text/plain": [
       "                                  Entity  Year  Schizophrenia (%)  \\\n",
       "0                            Afghanistan  1990           0.160560   \n",
       "1                            Afghanistan  1991           0.160312   \n",
       "2                            Afghanistan  1992           0.160135   \n",
       "3                            Afghanistan  1993           0.160037   \n",
       "4                            Afghanistan  1994           0.160022   \n",
       "...                                  ...   ...                ...   \n",
       "6435  United Kingdom (England and Wales)  2013           0.254036   \n",
       "6436  United Kingdom (England and Wales)  2014           0.254957   \n",
       "6437  United Kingdom (England and Wales)  2015           0.256066   \n",
       "6438  United Kingdom (England and Wales)  2016           0.257352   \n",
       "6439  United Kingdom (England and Wales)  2017           0.258803   \n",
       "\n",
       "      Anxiety disorders (%)  Drug use disorders (%)  Depression (%)  \\\n",
       "0                  4.828830                1.677082        4.071831   \n",
       "1                  4.829740                1.684746        4.079531   \n",
       "2                  4.831108                1.694334        4.088358   \n",
       "3                  4.830864                1.705320        4.096190   \n",
       "4                  4.829423                1.716069        4.099582   \n",
       "...                     ...                     ...             ...   \n",
       "6435               4.652097                1.653962        4.081280   \n",
       "6436               4.652467                1.644664        4.083395   \n",
       "6437               4.653243                1.634713        4.085584   \n",
       "6438               4.654402                1.623996        4.089443   \n",
       "6439               4.655779                1.612164        4.094341   \n",
       "\n",
       "      Alcohol use disorders (%)  \n",
       "0                      0.672404  \n",
       "1                      0.671768  \n",
       "2                      0.670644  \n",
       "3                      0.669738  \n",
       "4                      0.669260  \n",
       "...                         ...  \n",
       "6435                   1.738443  \n",
       "6436                   1.740366  \n",
       "6437                   1.740498  \n",
       "6438                   1.738599  \n",
       "6439                   1.734279  \n",
       "\n",
       "[6440 rows x 7 columns]"
      ]
     },
     "execution_count": 85,
     "metadata": {},
     "output_type": "execute_result"
    }
   ],
   "source": [
    "# Append the filtered DF to the mental health one \n",
    "filtered[\"Entity\"] = \"United Kingdom (England and Wales)\"\n",
    "mental_health_df = pd.concat([mental_health_df, filtered]).reset_index(drop=True)\n",
    "mental_health_df"
   ]
  },
  {
   "cell_type": "markdown",
   "metadata": {},
   "source": [
    "Remove "
   ]
  },
  {
   "cell_type": "code",
   "execution_count": 86,
   "metadata": {},
   "outputs": [],
   "source": [
    "crime_df = crime_df.dropna()\n",
    "res = pd.merge(mental_health_df, crime_df, on=[\"Entity\", \"Year\"])"
   ]
  }
 ],
 "metadata": {
  "kernelspec": {
   "display_name": "venv",
   "language": "python",
   "name": "python3"
  },
  "language_info": {
   "codemirror_mode": {
    "name": "ipython",
    "version": 3
   },
   "file_extension": ".py",
   "mimetype": "text/x-python",
   "name": "python",
   "nbconvert_exporter": "python",
   "pygments_lexer": "ipython3",
   "version": "3.11.1"
  }
 },
 "nbformat": 4,
 "nbformat_minor": 2
}
